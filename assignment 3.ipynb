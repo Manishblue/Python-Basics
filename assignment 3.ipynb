{
 "cells": [
  {
   "cell_type": "code",
   "execution_count": 1,
   "id": "20653164-cdda-4612-a17a-a0323c0fda61",
   "metadata": {},
   "outputs": [
    {
     "data": {
      "text/plain": [
       "'Q1. Which keyword is used to create a function? Create a function to return a list of odd numbers in the\\nrange of 1 to 25.'"
      ]
     },
     "execution_count": 1,
     "metadata": {},
     "output_type": "execute_result"
    }
   ],
   "source": [
    "\"\"\"Q1. Which keyword is used to create a function? Create a function to return a list of odd numbers in the\n",
    "range of 1 to 25.\"\"\""
   ]
  },
  {
   "cell_type": "code",
   "execution_count": 2,
   "id": "7d1ce7b1-7678-4e11-8bba-0237d89385b2",
   "metadata": {},
   "outputs": [
    {
     "name": "stdout",
     "output_type": "stream",
     "text": [
      "[1, 3, 5, 7, 9, 11, 13, 15, 17, 19, 21, 23, 25]\n"
     ]
    }
   ],
   "source": [
    "# Function to return a list of odd numbers in the range of 1 to 25\n",
    "def get_odd_numbers():\n",
    "    odd_numbers = [num for num in range(1, 26) if num % 2 != 0]\n",
    "    return odd_numbers\n",
    "\n",
    "# Call the function and print the result\n",
    "result = get_odd_numbers()\n",
    "print(result)"
   ]
  },
  {
   "cell_type": "code",
   "execution_count": 3,
   "id": "4699e661-df35-49c5-aac3-2f76938efeac",
   "metadata": {},
   "outputs": [
    {
     "data": {
      "text/plain": [
       "'Q2. Write a python program to print the sum and product of the first 10 natural numbers using for\\nand while loop.'"
      ]
     },
     "execution_count": 3,
     "metadata": {},
     "output_type": "execute_result"
    }
   ],
   "source": [
    "\"\"\"Q2. Write a python program to print the sum and product of the first 10 natural numbers using for\n",
    "and while loop.\"\"\""
   ]
  },
  {
   "cell_type": "code",
   "execution_count": 4,
   "id": "5253a059-68b2-48f5-abfc-7ffae3e8a056",
   "metadata": {},
   "outputs": [
    {
     "name": "stdout",
     "output_type": "stream",
     "text": [
      "Using for loop:\n",
      "Sum: 55\n",
      "Product: 3628800\n"
     ]
    }
   ],
   "source": [
    "# Using for loop to calculate the sum and product of the first 10 natural numbers\n",
    "\n",
    "# Initialize variables\n",
    "sum_result = 0\n",
    "product_result = 1\n",
    "\n",
    "# Calculate sum and product using a for loop\n",
    "for num in range(1, 11):\n",
    "    sum_result += num\n",
    "    product_result *= num\n",
    "\n",
    "# Print the results\n",
    "print(\"Using for loop:\")\n",
    "print(\"Sum:\", sum_result)\n",
    "print(\"Product:\", product_result)"
   ]
  },
  {
   "cell_type": "code",
   "execution_count": 5,
   "id": "e45bffc8-d9dc-4282-86b3-5561a0f3b07a",
   "metadata": {},
   "outputs": [
    {
     "name": "stdout",
     "output_type": "stream",
     "text": [
      "\n",
      "Using while loop:\n",
      "Sum: 55\n",
      "Product: 3628800\n"
     ]
    }
   ],
   "source": [
    "# Using while loop to calculate the sum and product of the first 10 natural numbers\n",
    "\n",
    "# Initialize variables and counter\n",
    "counter = 1\n",
    "sum_result = 0\n",
    "product_result = 1\n",
    "\n",
    "# Calculate sum and product using a while loop\n",
    "while counter <= 10:\n",
    "    sum_result += counter\n",
    "    product_result *= counter\n",
    "    counter += 1\n",
    "\n",
    "# Print the results\n",
    "print(\"\\nUsing while loop:\")\n",
    "print(\"Sum:\", sum_result)\n",
    "print(\"Product:\", product_result)"
   ]
  },
  {
   "cell_type": "code",
   "execution_count": 6,
   "id": "63f7995e-6ff4-434a-a399-a8847a78b177",
   "metadata": {},
   "outputs": [
    {
     "data": {
      "text/plain": [
       "'Q3. What is an iterator in python? Name the method used to initialise the iterator object and the method\\nused for iteration. Use these methods to print the first five elements of the given list [2, 4, 6, 8, 10, 12, 14,\\n16, 18, 20].'"
      ]
     },
     "execution_count": 6,
     "metadata": {},
     "output_type": "execute_result"
    }
   ],
   "source": [
    "\"\"\"Q3. What is an iterator in python? Name the method used to initialise the iterator object and the method\n",
    "used for iteration. Use these methods to print the first five elements of the given list [2, 4, 6, 8, 10, 12, 14,\n",
    "16, 18, 20].\"\"\""
   ]
  },
  {
   "cell_type": "code",
   "execution_count": 7,
   "id": "5143f7b9-91cd-449b-9352-2a8cf84e57f6",
   "metadata": {},
   "outputs": [],
   "source": [
    "# an iterator is an object that implements the iterator protocol, which consists of the __iter__ and __next__ methods.\n",
    "\n",
    "# __iter__ Method:\n",
    "\n",
    "# The __iter__ method is used to initialize the iterator object. It should return the iterator object itself (self).\n",
    "# __next__ Method:\n",
    "\n",
    "# The __next__ method is called to get the next element in the sequence. It should return the next element or raise the StopIteration exception when there are no more elements."
   ]
  },
  {
   "cell_type": "code",
   "execution_count": 8,
   "id": "ef55ec31-c70d-4fa3-b787-57961d0a509f",
   "metadata": {},
   "outputs": [
    {
     "name": "stdout",
     "output_type": "stream",
     "text": [
      "First five elements using iterator:\n",
      "2\n",
      "4\n",
      "6\n",
      "8\n",
      "10\n"
     ]
    }
   ],
   "source": [
    "# Create an iterator for the list\n",
    "class MyIterator:\n",
    "    def __init__(self, data):\n",
    "        self.data = data\n",
    "        self.index = 0\n",
    "\n",
    "    def __iter__(self):\n",
    "        return self\n",
    "\n",
    "    def __next__(self):\n",
    "        if self.index < len(self.data):\n",
    "            result = self.data[self.index]\n",
    "            self.index += 1\n",
    "            return result\n",
    "        else:\n",
    "            raise StopIteration\n",
    "\n",
    "# Initialize the iterator object\n",
    "my_iterator = MyIterator([2, 4, 6, 8, 10, 12, 14, 16, 18, 20])\n",
    "\n",
    "# Use the iterator to print the first five elements\n",
    "print(\"First five elements using iterator:\")\n",
    "for _ in range(5):\n",
    "    print(next(my_iterator))"
   ]
  },
  {
   "cell_type": "code",
   "execution_count": 9,
   "id": "08f1dfc2-6d33-4f73-a61d-f0b2f6163b5e",
   "metadata": {},
   "outputs": [],
   "source": [
    "# Q4. What is a generator function in python? Why yield keyword is used? Give an example of a generator\n",
    "# function."
   ]
  },
  {
   "cell_type": "code",
   "execution_count": 10,
   "id": "8cb65a77-421d-41f4-8c4c-cf412c14162a",
   "metadata": {},
   "outputs": [],
   "source": [
    "# Generator Function in Python:\n",
    "\n",
    "# A generator function in Python is a special type of function that allows you to iterate over a potentially large sequence of data without loading the entire sequence into memory at once. It is defined using the yield keyword.\n",
    "\n",
    "# Why yield is Used:\n",
    "\n",
    "# The yield keyword is used in a generator function to produce a series of values for iteration. Unlike a regular function that returns a value and terminates, a generator function with yield allows you to pause its execution and later resume it, maintaining the state between each pause and resume.\n",
    "\n",
    "# When a generator function is called, it returns an iterator but does not start execution immediately. Each time the yield statement is encountered, the function's state is saved, and the yielded value is returned to the caller. The next time the generator is called, it resumes execution from where it was paused."
   ]
  },
  {
   "cell_type": "code",
   "execution_count": 11,
   "id": "9884eb48-9eca-4dd7-b4b1-4fe2c6c6fd5e",
   "metadata": {},
   "outputs": [
    {
     "name": "stdout",
     "output_type": "stream",
     "text": [
      "1\n",
      "4\n",
      "9\n",
      "16\n",
      "25\n"
     ]
    }
   ],
   "source": [
    "def square_generator(limit):\n",
    "    num = 1\n",
    "    while num <= limit:\n",
    "        yield num ** 2\n",
    "        num += 1\n",
    "\n",
    "# Using the generator function\n",
    "squares = square_generator(5)\n",
    "\n",
    "# Iterating over the generated squares\n",
    "for square in squares:\n",
    "    print(square)"
   ]
  },
  {
   "cell_type": "code",
   "execution_count": 12,
   "id": "a6661b85-5a18-411e-adee-e76418e7e9ae",
   "metadata": {},
   "outputs": [],
   "source": [
    "# Q5. Create a generator function for prime numbers less than 1000. Use the next() method to print the\n",
    "# first 20 prime numbers."
   ]
  },
  {
   "cell_type": "code",
   "execution_count": 13,
   "id": "7e86213e-5588-4e5e-ad45-7c607e9d51f3",
   "metadata": {},
   "outputs": [],
   "source": [
    "# a generator function that yields prime numbers less than 1000, and then we use the next() method to print the first 20 prime numbers:"
   ]
  },
  {
   "cell_type": "code",
   "execution_count": 14,
   "id": "74285d2c-67ff-4e30-bf9f-c4d0ef936c48",
   "metadata": {},
   "outputs": [
    {
     "name": "stdout",
     "output_type": "stream",
     "text": [
      "First 20 prime numbers:\n",
      "2\n",
      "2\n",
      "2\n",
      "2\n",
      "2\n",
      "2\n",
      "2\n",
      "2\n",
      "2\n",
      "2\n",
      "2\n",
      "2\n",
      "2\n",
      "2\n",
      "2\n",
      "2\n",
      "2\n",
      "2\n",
      "2\n",
      "2\n"
     ]
    }
   ],
   "source": [
    "def is_prime(num):\n",
    "    if num < 2:\n",
    "        return False\n",
    "    for i in range(2, int(num**0.5) + 1):\n",
    "        if num % i == 0:\n",
    "            return False\n",
    "    return True\n",
    "\n",
    "def prime_generator():\n",
    "    num = 2\n",
    "    count = 0\n",
    "    while count < 20:\n",
    "        if is_prime(num):\n",
    "            yield num\n",
    "            count += 1\n",
    "        num += 1\n",
    "\n",
    "# Use the generator function to print the first 20 prime numbers\n",
    "print(\"First 20 prime numbers:\")\n",
    "for _ in range(20):\n",
    "    print(next(prime_generator()))"
   ]
  },
  {
   "cell_type": "code",
   "execution_count": 15,
   "id": "9cf33647-c9e7-416c-95eb-c762ed712979",
   "metadata": {},
   "outputs": [],
   "source": [
    "# Q6. Write a python program to print the first 10 Fibonacci numbers using a while loop."
   ]
  },
  {
   "cell_type": "code",
   "execution_count": 16,
   "id": "b1f79df0-1b52-4cdc-8a7f-cf70a7803c13",
   "metadata": {},
   "outputs": [],
   "source": [
    "# Python program to print the first 10 Fibonacci numbers using a while loop:"
   ]
  },
  {
   "cell_type": "code",
   "execution_count": 17,
   "id": "f43aac61-9079-4be6-831b-658ee9fca305",
   "metadata": {},
   "outputs": [
    {
     "name": "stdout",
     "output_type": "stream",
     "text": [
      "First 10 Fibonacci numbers:\n",
      "0 1 1 2 3 5 8 13 21 34 "
     ]
    }
   ],
   "source": [
    "# Program to print the first 10 Fibonacci numbers using a while loop\n",
    "\n",
    "# Initialize variables for the first two Fibonacci numbers\n",
    "a, b = 0, 1\n",
    "\n",
    "# Counter to track the number of Fibonacci numbers printed\n",
    "count = 0\n",
    "\n",
    "# Using a while loop to calculate and print the first 10 Fibonacci numbers\n",
    "print(\"First 10 Fibonacci numbers:\")\n",
    "while count < 10:\n",
    "    print(a, end=\" \")\n",
    "    a, b = b, a + b\n",
    "    count += 1"
   ]
  },
  {
   "cell_type": "code",
   "execution_count": 18,
   "id": "56dbbc86-d3d8-4183-b301-9e75b7dc414c",
   "metadata": {},
   "outputs": [
    {
     "data": {
      "text/plain": [
       "\"Q7. Write a List Comprehension to iterate through the given string: ‘pwskills’.\\nExpected output: ['p', 'w', 's', 'k', 'i', 'l', 'l', 's']\""
      ]
     },
     "execution_count": 18,
     "metadata": {},
     "output_type": "execute_result"
    }
   ],
   "source": [
    "\"\"\"Q7. Write a List Comprehension to iterate through the given string: ‘pwskills’.\n",
    "Expected output: ['p', 'w', 's', 'k', 'i', 'l', 'l', 's']\"\"\""
   ]
  },
  {
   "cell_type": "code",
   "execution_count": 19,
   "id": "75606cf7-977a-4ab6-8c03-96daee11cc0e",
   "metadata": {},
   "outputs": [
    {
     "name": "stdout",
     "output_type": "stream",
     "text": [
      "['p', 'w', 's', 'k', 'i', 'l', 'l', 's']\n"
     ]
    }
   ],
   "source": [
    "# use a list comprehension to iterate through the given string 'pwskills' and create a list of individual characters. Here's the code:\n",
    "\n",
    "# python\n",
    "# Copy code\n",
    "# List comprehension to iterate through the given string\n",
    "input_string = 'pwskills'\n",
    "result_list = [char for char in input_string]\n",
    "\n",
    "# Print the result\n",
    "print(result_list)"
   ]
  },
  {
   "cell_type": "code",
   "execution_count": 20,
   "id": "e9838eb6-d80d-4dd7-983c-40e282acc958",
   "metadata": {},
   "outputs": [
    {
     "data": {
      "text/plain": [
       "'Q8. Write a python program to check whether a given number is Palindrome or not using a while loop.'"
      ]
     },
     "execution_count": 20,
     "metadata": {},
     "output_type": "execute_result"
    }
   ],
   "source": [
    "\"\"\"Q8. Write a python program to check whether a given number is Palindrome or not using a while loop.\"\"\""
   ]
  },
  {
   "cell_type": "code",
   "execution_count": 21,
   "id": "494e6ad1-611a-4eca-b059-276c9e67709e",
   "metadata": {},
   "outputs": [
    {
     "name": "stdin",
     "output_type": "stream",
     "text": [
      "Enter a number:  234\n"
     ]
    },
    {
     "name": "stdout",
     "output_type": "stream",
     "text": [
      "234 is not a palindrome.\n"
     ]
    }
   ],
   "source": [
    "# Program to check if a number is a palindrome using a while loop\n",
    "\n",
    "def is_palindrome(num):\n",
    "    original_num = num\n",
    "    reversed_num = 0\n",
    "\n",
    "    while num > 0:\n",
    "        digit = num % 10\n",
    "        reversed_num = (reversed_num * 10) + digit\n",
    "        num = num // 10\n",
    "\n",
    "    return original_num == reversed_num\n",
    "\n",
    "# Input a number from the user\n",
    "number = int(input(\"Enter a number: \"))\n",
    "\n",
    "# Check if the number is a palindrome\n",
    "if is_palindrome(number):\n",
    "    print(f\"{number} is a palindrome.\")\n",
    "else:\n",
    "    print(f\"{number} is not a palindrome.\")"
   ]
  },
  {
   "cell_type": "code",
   "execution_count": 22,
   "id": "99e5dd00-3fe8-43a2-aa16-297d8bef9474",
   "metadata": {},
   "outputs": [
    {
     "data": {
      "text/plain": [
       "'Q9. Write a code to print odd numbers from 1 to 100 using list comprehension.\\nNote: Use a list comprehension to create a list from 1 to 100 and use another List comprehension to filter\\nout odd numbers.'"
      ]
     },
     "execution_count": 22,
     "metadata": {},
     "output_type": "execute_result"
    }
   ],
   "source": [
    "\"\"\"Q9. Write a code to print odd numbers from 1 to 100 using list comprehension.\n",
    "Note: Use a list comprehension to create a list from 1 to 100 and use another List comprehension to filter\n",
    "out odd numbers.\"\"\""
   ]
  },
  {
   "cell_type": "code",
   "execution_count": 23,
   "id": "707cbaf4-add1-4c0a-b392-f04c319e8cc9",
   "metadata": {},
   "outputs": [
    {
     "name": "stdout",
     "output_type": "stream",
     "text": [
      "Odd numbers from 1 to 100: [1, 3, 5, 7, 9, 11, 13, 15, 17, 19, 21, 23, 25, 27, 29, 31, 33, 35, 37, 39, 41, 43, 45, 47, 49, 51, 53, 55, 57, 59, 61, 63, 65, 67, 69, 71, 73, 75, 77, 79, 81, 83, 85, 87, 89, 91, 93, 95, 97, 99]\n"
     ]
    }
   ],
   "source": [
    "# Python code using list comprehension to print odd numbers from 1 to 100:\n",
    "\n",
    "# python\n",
    "# Copy code\n",
    "# List comprehension to create a list from 1 to 100\n",
    "numbers = list(range(1, 101))\n",
    "\n",
    "# List comprehension to filter out odd numbers\n",
    "odd_numbers = [num for num in numbers if num % 2 != 0]\n",
    "\n",
    "# Print the result\n",
    "print(\"Odd numbers from 1 to 100:\", odd_numbers)"
   ]
  },
  {
   "cell_type": "code",
   "execution_count": null,
   "id": "f3eb3cd7-8423-4636-ae0a-d51f4b6ea6b6",
   "metadata": {},
   "outputs": [],
   "source": []
  }
 ],
 "metadata": {
  "kernelspec": {
   "display_name": "Python 3 (ipykernel)",
   "language": "python",
   "name": "python3"
  },
  "language_info": {
   "codemirror_mode": {
    "name": "ipython",
    "version": 3
   },
   "file_extension": ".py",
   "mimetype": "text/x-python",
   "name": "python",
   "nbconvert_exporter": "python",
   "pygments_lexer": "ipython3",
   "version": "3.10.8"
  }
 },
 "nbformat": 4,
 "nbformat_minor": 5
}
